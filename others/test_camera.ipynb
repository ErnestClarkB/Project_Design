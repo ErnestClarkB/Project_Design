{
 "cells": [
  {
   "cell_type": "code",
   "execution_count": 4,
   "metadata": {},
   "outputs": [
    {
     "name": "stderr",
     "output_type": "stream",
     "text": [
      "Exception in Tkinter callback\n",
      "Traceback (most recent call last):\n",
      "  File \"C:\\Program Files\\WindowsApps\\PythonSoftwareFoundation.Python.3.10_3.10.2800.0_x64__qbz5n2kfra8p0\\lib\\tkinter\\__init__.py\", line 1919, in __call__\n",
      "    if self.subst:\n",
      "KeyboardInterrupt\n"
     ]
    }
   ],
   "source": [
    "import tkinter as tk\n",
    "import cv2\n",
    "from PIL import Image, ImageTk\n",
    "\n",
    "# create a window\n",
    "window = tk.Tk()\n",
    "window.title(\"Camera Control\")\n",
    "\n",
    "# create a canvas widget to display the camera output\n",
    "canvas = tk.Canvas(window, width=800, height=600)\n",
    "canvas.pack()\n",
    "\n",
    "# initialize the camera\n",
    "cap = cv2.VideoCapture(0)\n",
    "\n",
    "def update():\n",
    "    # read a frame from the camera\n",
    "    ret, frame = cap.read()\n",
    "    \n",
    "    if ret:\n",
    "        # convert the frame from BGR to RGB\n",
    "        frame = cv2.cvtColor(frame, cv2.COLOR_BGR2RGB)\n",
    "        \n",
    "        # resize the frame to fit the canvas\n",
    "        frame = cv2.resize(frame, (800, 600))\n",
    "        \n",
    "        # convert the frame to an ImageTk object\n",
    "        img = Image.fromarray(frame)\n",
    "        img_tk = ImageTk.PhotoImage(img)\n",
    "        \n",
    "        # update the canvas with the new image\n",
    "        canvas.create_image(0, 0, anchor=tk.NW, image=img_tk)\n",
    "    \n",
    "    # schedule the next update in 10 milliseconds\n",
    "    window.after(10, update)\n",
    "\n",
    "# define functions to start and stop the camera\n",
    "def start_camera():\n",
    "    global cap\n",
    "    cap = cv2.VideoCapture(0)\n",
    "    update()\n",
    "\n",
    "def stop_camera():\n",
    "    cap.release()\n",
    "    canvas.delete(\"all\")\n",
    "\n",
    "# create buttons to start and stop the camera\n",
    "start_button = tk.Button(window, text=\"Start Camera\", command=start_camera)\n",
    "start_button.pack(side=tk.LEFT, padx=10, pady=10)\n",
    "\n",
    "stop_button = tk.Button(window, text=\"Stop Camera\", command=stop_camera)\n",
    "stop_button.pack(side=tk.LEFT, padx=10, pady=10)\n",
    "\n",
    "# run the main loop\n",
    "window.mainloop()\n"
   ]
  }
 ],
 "metadata": {
  "kernelspec": {
   "display_name": "Python 3",
   "language": "python",
   "name": "python3"
  },
  "language_info": {
   "codemirror_mode": {
    "name": "ipython",
    "version": 3
   },
   "file_extension": ".py",
   "mimetype": "text/x-python",
   "name": "python",
   "nbconvert_exporter": "python",
   "pygments_lexer": "ipython3",
   "version": "3.10.10"
  },
  "orig_nbformat": 4
 },
 "nbformat": 4,
 "nbformat_minor": 2
}
