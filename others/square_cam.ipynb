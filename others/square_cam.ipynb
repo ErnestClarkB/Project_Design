{
 "cells": [
  {
   "cell_type": "code",
   "execution_count": 2,
   "metadata": {},
   "outputs": [
    {
     "name": "stdout",
     "output_type": "stream",
     "text": [
      "2\n",
      "3\n",
      "4\n",
      "5\n",
      "6\n"
     ]
    }
   ],
   "source": [
    "import cv2\n",
    "\n",
    "cap = cv2.VideoCapture(2) # open the default camera (change 0 to the index of your camera if it's not the default)\n",
    "imgcnt = 1\n",
    "while True:\n",
    "    ret, frame = cap.read() # read a frame from the camera\n",
    "    if not ret:\n",
    "        break\n",
    "    \n",
    "    height, width, _ = frame.shape # get the height and width of the frame\n",
    "    crop_size = min(height, width) # get the minimum of the two dimensions\n",
    "    crop_start = (width - crop_size) // 2, (height - crop_size) // 2 # calculate the starting point of the crop\n",
    "    crop_end = crop_start[0] + crop_size, crop_start[1] + crop_size # calculate the ending point of the crop\n",
    "    frame = frame[crop_start[1]:crop_end[1], crop_start[0]:crop_end[0]] # crop the frame to a square aspect ratio\n",
    "    \n",
    "    cv2.imshow('frame', frame) # show the frame on the screen\n",
    "\n",
    "    if cv2.waitKey(1) == ord('c'): # wait for the 'q' key to be pressed to exit\n",
    "        cv2.imwrite('Papaya_%s.jpg'%(str(imgcnt)),frame)\n",
    "        imgcnt+=1\n",
    "        print(imgcnt)\n",
    "q\n",
    "    \n",
    "    if cv2.waitKey(1) == ord('q'): # wait for the 'q' key to be pressed to exit\n",
    "        break\n",
    "\n",
    "cap.release() # release the camera\n",
    "cv2.destroyAllWindows() # destroy all windows\n"
   ]
  },
  {
   "cell_type": "code",
   "execution_count": 2,
   "metadata": {},
   "outputs": [
    {
     "name": "stdout",
     "output_type": "stream",
     "text": [
      "Ripe\n"
     ]
    }
   ],
   "source": [
    "def check_maturity(green,yellow):\n",
    "\n",
    "    if green<5 and yellow>=95:\n",
    "        return 'Table Ripe'\n",
    "    elif green<30 and yellow>=70:\n",
    "        return 'Ripe'\n",
    "    elif green<=50 and yellow>=50:\n",
    "        return \"Half-ripe\"\n",
    "    elif green<=70 and yellow>=30:\n",
    "        return '1/3 ripe'\n",
    "    elif green>70 and yellow>=10:\n",
    "        return 'Breaker'\n",
    "    else:\n",
    "        return 'Green'\n",
    "\n",
    "\n",
    "print(check_maturity(12.17,87.82))"
   ]
  }
 ],
 "metadata": {
  "kernelspec": {
   "display_name": "Python 3",
   "language": "python",
   "name": "python3"
  },
  "language_info": {
   "codemirror_mode": {
    "name": "ipython",
    "version": 3
   },
   "file_extension": ".py",
   "mimetype": "text/x-python",
   "name": "python",
   "nbconvert_exporter": "python",
   "pygments_lexer": "ipython3",
   "version": "3.10.10"
  },
  "orig_nbformat": 4,
  "vscode": {
   "interpreter": {
    "hash": "9deea79bfd8769c20cdb41e577c31349975f53057f7c4a88718c49dab3f025eb"
   }
  }
 },
 "nbformat": 4,
 "nbformat_minor": 2
}
