{
 "cells": [
  {
   "cell_type": "code",
   "execution_count": 4,
   "metadata": {},
   "outputs": [
    {
     "name": "stdout",
     "output_type": "stream",
     "text": [
      "Arduino not found\n"
     ]
    },
    {
     "name": "stderr",
     "output_type": "stream",
     "text": [
      "Exception in thread Thread-6 (read_serial):\n",
      "Traceback (most recent call last):\n",
      "  File \"C:\\Program Files\\WindowsApps\\PythonSoftwareFoundation.Python.3.10_3.10.2800.0_x64__qbz5n2kfra8p0\\lib\\threading.py\", line 1016, in _bootstrap_inner\n",
      "    self.run()\n",
      "  File \"C:\\Program Files\\WindowsApps\\PythonSoftwareFoundation.Python.3.10_3.10.2800.0_x64__qbz5n2kfra8p0\\lib\\threading.py\", line 953, in run\n",
      "    self._target(*self._args, **self._kwargs)\n",
      "  File \"C:\\Users\\ACER\\AppData\\Local\\Temp\\ipykernel_23112\\978728602.py\", line 25, in read_serial\n"
     ]
    },
    {
     "ename": "PortNotOpenError",
     "evalue": "Attempting to use a port that is not open",
     "output_type": "error",
     "traceback": [
      "\u001b[1;31m---------------------------------------------------------------------------\u001b[0m",
      "\u001b[1;31mPortNotOpenError\u001b[0m                          Traceback (most recent call last)",
      "\u001b[1;32mc:\\Users\\ACER\\Desktop\\REDEFENSE-PD\\arduino.ipynb Cell 1\u001b[0m in \u001b[0;36m<cell line: 35>\u001b[1;34m()\u001b[0m\n\u001b[0;32m     <a href='vscode-notebook-cell:/c%3A/Users/ACER/Desktop/REDEFENSE-PD/arduino.ipynb#W0sZmlsZQ%3D%3D?line=31'>32</a>\u001b[0m thread\u001b[39m.\u001b[39mstart()\n\u001b[0;32m     <a href='vscode-notebook-cell:/c%3A/Users/ACER/Desktop/REDEFENSE-PD/arduino.ipynb#W0sZmlsZQ%3D%3D?line=33'>34</a>\u001b[0m \u001b[39m# Write data to the serial port\u001b[39;00m\n\u001b[1;32m---> <a href='vscode-notebook-cell:/c%3A/Users/ACER/Desktop/REDEFENSE-PD/arduino.ipynb#W0sZmlsZQ%3D%3D?line=34'>35</a>\u001b[0m ser\u001b[39m.\u001b[39;49mwrite(\u001b[39mb\u001b[39;49m\u001b[39m'\u001b[39;49m\u001b[39mHello, world\u001b[39;49m\u001b[39m'\u001b[39;49m)\n",
      "File \u001b[1;32m~\\AppData\\Local\\Packages\\PythonSoftwareFoundation.Python.3.10_qbz5n2kfra8p0\\LocalCache\\local-packages\\Python310\\site-packages\\serial\\serialwin32.py:306\u001b[0m, in \u001b[0;36mSerial.write\u001b[1;34m(self, data)\u001b[0m\n\u001b[0;32m    304\u001b[0m \u001b[39m\"\"\"Output the given byte string over the serial port.\"\"\"\u001b[39;00m\n\u001b[0;32m    305\u001b[0m \u001b[39mif\u001b[39;00m \u001b[39mnot\u001b[39;00m \u001b[39mself\u001b[39m\u001b[39m.\u001b[39mis_open:\n\u001b[1;32m--> 306\u001b[0m     \u001b[39mraise\u001b[39;00m PortNotOpenError()\n\u001b[0;32m    307\u001b[0m \u001b[39m#~ if not isinstance(data, (bytes, bytearray)):\u001b[39;00m\n\u001b[0;32m    308\u001b[0m     \u001b[39m#~ raise TypeError('expected %s or bytearray, got %s' % (bytes, type(data)))\u001b[39;00m\n\u001b[0;32m    309\u001b[0m \u001b[39m# convert data (needed in case of memoryview instance: Py 3.1 io lib), ctypes doesn't like memoryview\u001b[39;00m\n\u001b[0;32m    310\u001b[0m data \u001b[39m=\u001b[39m to_bytes(data)\n",
      "\u001b[1;31mPortNotOpenError\u001b[0m: Attempting to use a port that is not open"
     ]
    },
    {
     "name": "stderr",
     "output_type": "stream",
     "text": [
      "  File \"C:\\Users\\ACER\\AppData\\Local\\Packages\\PythonSoftwareFoundation.Python.3.10_qbz5n2kfra8p0\\LocalCache\\local-packages\\Python310\\site-packages\\serial\\serialwin32.py\", line 269, in read\n",
      "    raise PortNotOpenError()\n",
      "serial.serialutil.PortNotOpenError: Attempting to use a port that is not open\n"
     ]
    }
   ],
   "source": [
    "import serial\n",
    "import serial.tools.list_ports\n",
    "\n",
    "# Function to get the port for the Arduino\n",
    "def find_arduino_port():\n",
    "    ports = serial.tools.list_ports.comports()\n",
    "    for port in ports:\n",
    "        if 'Arduino' in port.description:\n",
    "            return port.device\n",
    "    return None\n",
    "\n",
    "# Get the port for the Arduino\n",
    "port = find_arduino_port()\n",
    "if port is None:\n",
    "    print('Arduino not found')\n",
    "else:\n",
    "    print('Arduino found on port', port)\n",
    "\n",
    "# Create a serial object\n",
    "ser = serial.Serial(port, 9600)\n",
    "\n",
    "# Function to display real-time outputs\n",
    "def read_serial():\n",
    "    while True:\n",
    "        data = ser.read()\n",
    "        if data:\n",
    "            print(data.decode('utf-8'), end='')\n",
    "\n",
    "# Start reading data in a separate thread\n",
    "import threading\n",
    "thread = threading.Thread(target=read_serial)\n",
    "thread.start()\n",
    "\n",
    "# Write data to the serial port\n",
    "ser.write(b'Hello, world')\n"
   ]
  }
 ],
 "metadata": {
  "kernelspec": {
   "display_name": "Python 3",
   "language": "python",
   "name": "python3"
  },
  "language_info": {
   "codemirror_mode": {
    "name": "ipython",
    "version": 3
   },
   "file_extension": ".py",
   "mimetype": "text/x-python",
   "name": "python",
   "nbconvert_exporter": "python",
   "pygments_lexer": "ipython3",
   "version": "3.10.10"
  },
  "orig_nbformat": 4,
  "vscode": {
   "interpreter": {
    "hash": "9deea79bfd8769c20cdb41e577c31349975f53057f7c4a88718c49dab3f025eb"
   }
  }
 },
 "nbformat": 4,
 "nbformat_minor": 2
}
