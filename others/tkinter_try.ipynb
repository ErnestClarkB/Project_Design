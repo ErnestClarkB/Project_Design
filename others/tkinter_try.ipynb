{
 "cells": [
  {
   "cell_type": "code",
   "execution_count": 1,
   "metadata": {},
   "outputs": [],
   "source": [
    "import tkinter as tk\n",
    "\n",
    "# Create a dictionary with key-value pairs\n",
    "my_dict = {\"Name\": \"John\", \"Age\": 25, \"City\": \"New York\"}\n",
    "\n",
    "# Create a Tkinter window\n",
    "root = tk.Tk()\n",
    "\n",
    "# Create a Label widget to display the key-value pairs\n",
    "label = tk.Label(root, text=\"\\n\".join([f\"{key}: {value}\" for key, value in my_dict.items()]))\n",
    "label.pack()\n",
    "\n",
    "# Start the Tkinter event loop\n",
    "root.mainloop()\n"
   ]
  }
 ],
 "metadata": {
  "kernelspec": {
   "display_name": "Python 3",
   "language": "python",
   "name": "python3"
  },
  "language_info": {
   "codemirror_mode": {
    "name": "ipython",
    "version": 3
   },
   "file_extension": ".py",
   "mimetype": "text/x-python",
   "name": "python",
   "nbconvert_exporter": "python",
   "pygments_lexer": "ipython3",
   "version": "3.10.10"
  },
  "orig_nbformat": 4
 },
 "nbformat": 4,
 "nbformat_minor": 2
}
